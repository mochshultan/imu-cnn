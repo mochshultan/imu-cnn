# Fall Detection System - CNN-LSTM Training Pipeline
## Two-Step Verification: Vision AI Model Training

This notebook implements a robust CNN-LSTM model for fall detection using IP camera data from Roboflow. The model will be optimized for deployment on XIAO ESP32C3 with Grove Vision AI V2 module.

### System Overview
- **First Verification**: IMU 6-axis sensor (threshold-based detection)
- **Second Verification**: Vision AI model (CNN-LSTM for sequence classification)
- **Target Hardware**: Grove Vision AI V2 (ARM Cortex-M55 + Ethos-U55 microNPU)
- **Model Format**: TensorFlow Lite INT8 quantized

### Best Practice Model Selection
After research analysis, **CNN-LSTM hybrid architecture** is chosen as the best practice for vision-based fall detection:

1. **CNN layers**: Extract robust spatial features from video frames
2. **LSTM layers**: Capture temporal dependencies in human motion sequences  
3. **Lightweight design**: Optimized for edge device deployment
4. **High accuracy**: Superior performance compared to pure CNN or Transformer models for this task